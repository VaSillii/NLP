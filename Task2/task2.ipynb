{
  "nbformat": 4,
  "nbformat_minor": 0,
  "metadata": {
    "colab": {
      "name": "Untitled1.ipynb",
      "provenance": [],
      "collapsed_sections": [],
      "toc_visible": true
    },
    "kernelspec": {
      "name": "python3",
      "display_name": "Python 3"
    },
    "language_info": {
      "name": "python"
    }
  },
  "cells": [
    {
      "cell_type": "markdown",
      "metadata": {
        "id": "2o_S-igcboEi"
      },
      "source": [
        "Загрузка стоп слов для библиотеки nltk"
      ]
    },
    {
      "cell_type": "code",
      "metadata": {
        "colab": {
          "base_uri": "https://localhost:8080/"
        },
        "id": "ZrhDblp4VTE-",
        "outputId": "791c81df-3e73-42e6-bca5-39a690b791b7"
      },
      "source": [
        "import nltk\n",
        "nltk.download('stopwords')"
      ],
      "execution_count": 4,
      "outputs": [
        {
          "output_type": "stream",
          "text": [
            "[nltk_data] Downloading package stopwords to /root/nltk_data...\n",
            "[nltk_data]   Unzipping corpora/stopwords.zip.\n"
          ],
          "name": "stdout"
        },
        {
          "output_type": "execute_result",
          "data": {
            "text/plain": [
              "True"
            ]
          },
          "metadata": {
            "tags": []
          },
          "execution_count": 4
        }
      ]
    },
    {
      "cell_type": "markdown",
      "metadata": {
        "id": "I8-wJqWybw5l"
      },
      "source": [
        "Чтение файла с данными и получение списка токенов по регулярному выражению"
      ]
    },
    {
      "cell_type": "code",
      "metadata": {
        "colab": {
          "base_uri": "https://localhost:8080/"
        },
        "id": "yMM4JGvkWNVS",
        "outputId": "7004342a-41ed-48cd-8b15-a48a64448e90"
      },
      "source": [
        "import re\n",
        "\n",
        "pattern = '[а-яА-Яa-zA-ZёЁ]+'\n",
        "with open('text.txt', 'r', encoding='utf-8') as f:\n",
        "  data_text = [el.lower() for el in re.findall(pattern, f.read())]\n",
        "data_text[:30]"
      ],
      "execution_count": 86,
      "outputs": [
        {
          "output_type": "execute_result",
          "data": {
            "text/plain": [
              "['александр',\n",
              " 'дюма',\n",
              " 'граф',\n",
              " 'монте',\n",
              " 'кристо',\n",
              " 'часть',\n",
              " 'первая',\n",
              " 'i',\n",
              " 'марсель',\n",
              " 'прибытие',\n",
              " 'двадцать',\n",
              " 'седьмого',\n",
              " 'февраля',\n",
              " 'года',\n",
              " 'дозорный',\n",
              " 'нотр',\n",
              " 'дам',\n",
              " 'де',\n",
              " 'ла',\n",
              " 'гард',\n",
              " 'дал',\n",
              " 'знать',\n",
              " 'о',\n",
              " 'приближении',\n",
              " 'трехмачтового',\n",
              " 'корабля',\n",
              " 'фараон',\n",
              " 'идущего',\n",
              " 'из',\n",
              " 'смирны']"
            ]
          },
          "metadata": {
            "tags": []
          },
          "execution_count": 86
        }
      ]
    },
    {
      "cell_type": "markdown",
      "metadata": {
        "id": "GRhzRRnCcCVV"
      },
      "source": [
        "Фильтрация токенов по стоп-словам"
      ]
    },
    {
      "cell_type": "code",
      "metadata": {
        "colab": {
          "base_uri": "https://localhost:8080/"
        },
        "id": "nyyQjLOWVcNu",
        "outputId": "505e1d3f-fc7b-4766-d89d-e41697b6fe26"
      },
      "source": [
        "from nltk.corpus import stopwords  \n",
        "from nltk.tokenize import word_tokenize  \n",
        "import pymorphy2\n",
        "  \n",
        "stop_words = set(stopwords.words('russian'))  \n",
        "filter_text = [el for el in data_text if el not in stop_words]\n",
        "filter_text[:30]"
      ],
      "execution_count": 69,
      "outputs": [
        {
          "output_type": "execute_result",
          "data": {
            "text/plain": [
              "['александр',\n",
              " 'дюма',\n",
              " 'граф',\n",
              " 'монте',\n",
              " 'кристо',\n",
              " 'часть',\n",
              " 'первая',\n",
              " 'i',\n",
              " 'марсель',\n",
              " 'прибытие',\n",
              " 'двадцать',\n",
              " 'седьмого',\n",
              " 'февраля',\n",
              " 'года',\n",
              " 'дозорный',\n",
              " 'нотр',\n",
              " 'дам',\n",
              " 'де',\n",
              " 'ла',\n",
              " 'гард',\n",
              " 'дал',\n",
              " 'знать',\n",
              " 'приближении',\n",
              " 'трехмачтового',\n",
              " 'корабля',\n",
              " 'фараон',\n",
              " 'идущего',\n",
              " 'смирны',\n",
              " 'триеста',\n",
              " 'неаполя']"
            ]
          },
          "metadata": {
            "tags": []
          },
          "execution_count": 69
        }
      ]
    },
    {
      "cell_type": "code",
      "metadata": {
        "colab": {
          "base_uri": "https://localhost:8080/"
        },
        "id": "aBwYWe4mZ9xf",
        "outputId": "85881102-913a-41c3-fe85-dc1540db4a3e"
      },
      "source": [
        "len(data_text), len(filter_text)"
      ],
      "execution_count": 96,
      "outputs": [
        {
          "output_type": "execute_result",
          "data": {
            "text/plain": [
              "(35520, 21651)"
            ]
          },
          "metadata": {
            "tags": []
          },
          "execution_count": 96
        }
      ]
    },
    {
      "cell_type": "markdown",
      "metadata": {
        "id": "Ke76_BxNbcgl"
      },
      "source": [
        "# Получение 3-грамм\n"
      ]
    },
    {
      "cell_type": "code",
      "metadata": {
        "colab": {
          "base_uri": "https://localhost:8080/"
        },
        "id": "NG7arWG9aztM",
        "outputId": "d85fa96b-10cb-40a5-85ce-52ff795b5e7f"
      },
      "source": [
        "from nltk.util import ngrams\n",
        "\n",
        "n_gram_3 = list(ngrams(filter_text, 3))\n",
        "n_gram_3[:18]"
      ],
      "execution_count": 71,
      "outputs": [
        {
          "output_type": "execute_result",
          "data": {
            "text/plain": [
              "[('александр', 'дюма', 'граф'),\n",
              " ('дюма', 'граф', 'монте'),\n",
              " ('граф', 'монте', 'кристо'),\n",
              " ('монте', 'кристо', 'часть'),\n",
              " ('кристо', 'часть', 'первая'),\n",
              " ('часть', 'первая', 'i'),\n",
              " ('первая', 'i', 'марсель'),\n",
              " ('i', 'марсель', 'прибытие'),\n",
              " ('марсель', 'прибытие', 'двадцать'),\n",
              " ('прибытие', 'двадцать', 'седьмого'),\n",
              " ('двадцать', 'седьмого', 'февраля'),\n",
              " ('седьмого', 'февраля', 'года'),\n",
              " ('февраля', 'года', 'дозорный'),\n",
              " ('года', 'дозорный', 'нотр'),\n",
              " ('дозорный', 'нотр', 'дам'),\n",
              " ('нотр', 'дам', 'де'),\n",
              " ('дам', 'де', 'ла'),\n",
              " ('де', 'ла', 'гард')]"
            ]
          },
          "metadata": {
            "tags": []
          },
          "execution_count": 71
        }
      ]
    },
    {
      "cell_type": "markdown",
      "metadata": {
        "id": "Zv-N3R2qbC5y"
      },
      "source": [
        "Вычисление частоты n-gramm"
      ]
    },
    {
      "cell_type": "code",
      "metadata": {
        "colab": {
          "base_uri": "https://localhost:8080/"
        },
        "id": "W6qEo3rJac8r",
        "outputId": "dea0419f-e350-4fde-d870-8529c59b8b11"
      },
      "source": [
        "def sord_dict_by_val(dict_data: dict):\n",
        "  list_d = list(ngram3.items())\n",
        "  list_d.sort(key=lambda i: i[1], reverse=True)\n",
        "  return list_d\n",
        "\n",
        "def update_cnt_world_dict(dict_word: dict, list_word: list):\n",
        "  for word in list_word:\n",
        "    if word not in dict_word.keys():\n",
        "      dict_word[word] = 1\n",
        "    else:\n",
        "      dict_word[word] = dict_word[word] + 1\n",
        "  return dict_word\n",
        "\n",
        "\n",
        "ngram3 = update_cnt_world_dict({}, n_gram_3)\n",
        "ngram1 = {}\n",
        "for word in ngram3:\n",
        "  ngram1 = update_cnt_world_dict(ngram1, word)\n",
        "\n",
        "list_d = list(ngram3.items())\n",
        "list_d.sort(key=lambda i: i[1])\n",
        "\n",
        "list(sord_dict_by_val(ngram3))[:5]"
      ],
      "execution_count": 145,
      "outputs": [
        {
          "output_type": "execute_result",
          "data": {
            "text/plain": [
              "[(('господин', 'де', 'вильфор'), 22),\n",
              " (('де', 'сен', 'меран'), 12),\n",
              " (('помощник', 'королевского', 'прокурора'), 8),\n",
              " (('улице', 'сен', 'жак'), 8),\n",
              " (('помощника', 'королевского', 'прокурора'), 6)]"
            ]
          },
          "metadata": {
            "tags": []
          },
          "execution_count": 145
        }
      ]
    },
    {
      "cell_type": "markdown",
      "metadata": {
        "id": "-UFla0s37Tr2"
      },
      "source": [
        "Вычисление частоты слов при поиощи nltk"
      ]
    },
    {
      "cell_type": "code",
      "metadata": {
        "colab": {
          "base_uri": "https://localhost:8080/"
        },
        "id": "ydIrYpsJ7a9I",
        "outputId": "2aac8d3c-f121-42e0-ee5a-0ff153ef8514"
      },
      "source": [
        "import nltk\n",
        "\n",
        "thrd = list(nltk.trigrams(filter_text))\n",
        "lst_thrd = nltk.FreqDist(thrd)\n",
        "\n",
        "lst_thrd.most_common(5)"
      ],
      "execution_count": 95,
      "outputs": [
        {
          "output_type": "execute_result",
          "data": {
            "text/plain": [
              "[(('господин', 'де', 'вильфор'), 22),\n",
              " (('де', 'сен', 'меран'), 12),\n",
              " (('помощник', 'королевского', 'прокурора'), 8),\n",
              " (('улице', 'сен', 'жак'), 8),\n",
              " (('помощника', 'королевского', 'прокурора'), 6)]"
            ]
          },
          "metadata": {
            "tags": []
          },
          "execution_count": 95
        }
      ]
    },
    {
      "cell_type": "markdown",
      "metadata": {
        "id": "QPy69UTAgg6N"
      },
      "source": [
        "# Мера ассоциативности t-score\n",
        "\n",
        "\n",
        "---\n",
        "\n",
        "\n",
        "![image.png](data:image/png;base64,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)\n",
        "\n",
        "\n",
        "\n",
        "---\n",
        "n - ключевое слово\n",
        "\n",
        "с - коллокатор  \n",
        "\n",
        "f(n, c) — частота встречаемости ключевого слова n в паре с колокатором с\n",
        "\n",
        "f(n), f(c) — абсолютные частоты ключевого слова n и слова с в корпусе;\n",
        "\n",
        "N — общее  число словоформ в корпусе\n",
        "\n",
        "\n"
      ]
    },
    {
      "cell_type": "code",
      "metadata": {
        "colab": {
          "base_uri": "https://localhost:8080/"
        },
        "id": "eZ-qtFhgbHF6",
        "outputId": "a3d60117-ca9d-4dd8-ee87-deb2ce11f749"
      },
      "source": [
        "def t_scoce(metrics: dict):\n",
        "  return (metrics['n'] - metrics['f_n_x_c'] / metrics['N']) / metrics['n']**0.5\n",
        "\n",
        "res = dict()\n",
        "for word in ngram3:\n",
        "  dict_t_score = {}\n",
        "  dict_t_score['f_n_x_c'] = ngram1[word[0]] * ngram1[word[1]] * ngram1[word[2]]\n",
        "  dict_t_score['n'] = ngram3[word]\n",
        "  dict_t_score['N'] = len(ngram3)\n",
        "\n",
        "  res[word] = t_scoce(dict_t_score)\n",
        "\n",
        "list(sord_dict_by_val(res))[:30]"
      ],
      "execution_count": 108,
      "outputs": [
        {
          "output_type": "execute_result",
          "data": {
            "text/plain": [
              "[(('господин', 'де', 'вильфор'), 22),\n",
              " (('де', 'сен', 'меран'), 12),\n",
              " (('помощник', 'королевского', 'прокурора'), 8),\n",
              " (('улице', 'сен', 'жак'), 8),\n",
              " (('помощника', 'королевского', 'прокурора'), 6),\n",
              " (('г', 'н', 'моррель'), 5),\n",
              " (('маркиза', 'де', 'сен'), 5),\n",
              " (('мадемуазель', 'де', 'сен'), 5),\n",
              " (('господин', 'моррель', 'сказал'), 4),\n",
              " (('графа', 'де', 'сальвьё'), 4),\n",
              " (('господина', 'де', 'вильфора'), 4),\n",
              " (('вашему', 'величеству', 'угодно'), 4),\n",
              " (('господин', 'моррель', 'отвечал'), 3),\n",
              " (('это', 'человек', 'лет'), 3),\n",
              " (('море', 'раньше', 'месяца'), 3),\n",
              " (('дело', 'сказал', 'кадрусс'), 3),\n",
              " (('перо', 'чернил', 'бумаги'), 3),\n",
              " (('помощник', 'капитана', 'корабле'), 3),\n",
              " (('капитана', 'корабле', 'фараон'), 3),\n",
              " (('сказал', 'граф', 'де'), 3),\n",
              " (('граф', 'де', 'сальвьё'), 3),\n",
              " (('де', 'сен', 'мерана'), 3),\n",
              " (('ах', 'господин', 'де'), 3),\n",
              " (('де', 'вильфор', 'сказал'), 3),\n",
              " (('крайней', 'мере', 'надеюсь'), 3),\n",
              " (('черт', 'возьми', 'сказал'), 3),\n",
              " (('ваше', 'величество', 'это'), 3),\n",
              " (('сказал', 'людовик', 'xviii'), 3),\n",
              " (('ваше', 'величество', 'сказал'), 3),\n",
              " (('ваше', 'величество', 'отвечал'), 3)]"
            ]
          },
          "metadata": {
            "tags": []
          },
          "execution_count": 108
        }
      ]
    },
    {
      "cell_type": "markdown",
      "metadata": {
        "id": "xhjpwLZmhij5"
      },
      "source": [
        "Проверка работы алгоритма при помощи методов встроенных в библиотеку nltk\n"
      ]
    },
    {
      "cell_type": "code",
      "metadata": {
        "colab": {
          "base_uri": "https://localhost:8080/"
        },
        "id": "jTr-91-cgI-r",
        "outputId": "e639b6ab-e0f4-49c6-a16d-5e042781b91f"
      },
      "source": [
        "import nltk\n",
        "from nltk.collocations import TrigramAssocMeasures\n",
        "from nltk.corpus import PlaintextCorpusReader\n",
        "\n",
        "trigram_measures = TrigramAssocMeasures()\n",
        "\n",
        "# with open('text.txt') as f:\n",
        "#   raw = f.read()\n",
        "\n",
        "# tokens = nltk.word_tokenize(raw,'russian',True)\n",
        "# print(tokens[:10])\n",
        "\n",
        "text = nltk.Text(filter_text)\n",
        "finder_thr = TrigramCollocationFinder.from_words(text)\n",
        "finder_thr.nbest(TrigramAssocMeasures().student_t, 30)\n",
        "\n",
        "# print(finder_thr.nbest(trigram_measures.pmi, 10))\n"
      ],
      "execution_count": 107,
      "outputs": [
        {
          "output_type": "execute_result",
          "data": {
            "text/plain": [
              "[('господин', 'де', 'вильфор'),\n",
              " ('де', 'сен', 'меран'),\n",
              " ('улице', 'сен', 'жак'),\n",
              " ('помощник', 'королевского', 'прокурора'),\n",
              " ('помощника', 'королевского', 'прокурора'),\n",
              " ('г', 'н', 'моррель'),\n",
              " ('мадемуазель', 'де', 'сен'),\n",
              " ('маркиза', 'де', 'сен'),\n",
              " ('графа', 'де', 'сальвьё'),\n",
              " ('вашему', 'величеству', 'угодно'),\n",
              " ('господина', 'де', 'вильфора'),\n",
              " ('господин', 'моррель', 'сказал'),\n",
              " ('перо', 'чернил', 'бумаги'),\n",
              " ('море', 'раньше', 'месяца'),\n",
              " ('семнадцать', 'месяцев', 'тюрьмы'),\n",
              " ('капитана', 'корабле', 'фараон'),\n",
              " ('помощник', 'капитана', 'корабле'),\n",
              " ('г', 'н', 'нуартье'),\n",
              " ('крайней', 'мере', 'надеюсь'),\n",
              " ('граф', 'де', 'сальвьё'),\n",
              " ('де', 'сен', 'мерана'),\n",
              " ('черт', 'возьми', 'сказал'),\n",
              " ('ах', 'господин', 'де'),\n",
              " ('сказал', 'людовик', 'xviii'),\n",
              " ('сказал', 'граф', 'де'),\n",
              " ('это', 'человек', 'лет'),\n",
              " ('ваше', 'величество', 'отвечал'),\n",
              " ('господин', 'моррель', 'отвечал'),\n",
              " ('ваше', 'величество', 'это'),\n",
              " ('ваше', 'величество', 'сказал')]"
            ]
          },
          "metadata": {
            "tags": []
          },
          "execution_count": 107
        }
      ]
    },
    {
      "cell_type": "code",
      "metadata": {
        "id": "My4XUP5xPSFy"
      },
      "source": [
        ""
      ],
      "execution_count": null,
      "outputs": []
    }
  ]
}